{
 "cells": [
  {
   "cell_type": "code",
   "execution_count": 1,
   "id": "119add19-e89b-40c6-82f2-228a6941e498",
   "metadata": {},
   "outputs": [],
   "source": [
    "# Load model directly\n",
    "from transformers import BartTokenizer, BartForConditionalGeneration\n",
    "import torch\n",
    "\n",
    "device = torch.device(\"cuda\") if torch.cuda.is_available() else torch.device(\"cpu\")\n",
    "tokenizer = BartTokenizer.from_pretrained(\"facebook/bart-base\")"
   ]
  },
  {
   "cell_type": "code",
   "execution_count": 2,
   "id": "9daabd37-f592-4767-9c13-7e3b4ac84580",
   "metadata": {},
   "outputs": [
    {
     "data": {
      "text/plain": [
       "DatasetDict({\n",
       "    train: Dataset({\n",
       "        features: ['question', 'distractor3', 'distractor1', 'distractor2', 'correct_answer', 'support'],\n",
       "        num_rows: 11679\n",
       "    })\n",
       "    validation: Dataset({\n",
       "        features: ['question', 'distractor3', 'distractor1', 'distractor2', 'correct_answer', 'support'],\n",
       "        num_rows: 1000\n",
       "    })\n",
       "    test: Dataset({\n",
       "        features: ['question', 'distractor3', 'distractor1', 'distractor2', 'correct_answer', 'support'],\n",
       "        num_rows: 1000\n",
       "    })\n",
       "})"
      ]
     },
     "execution_count": 2,
     "metadata": {},
     "output_type": "execute_result"
    }
   ],
   "source": [
    "from datasets import load_dataset\n",
    "\n",
    "sciq_dataset = load_dataset(\"allenai/sciq\")\n",
    "sciq_dataset"
   ]
  },
  {
   "cell_type": "markdown",
   "id": "dd84a532-8f76-4873-865b-3aaeb2d86545",
   "metadata": {},
   "source": [
    "### Sequential Model Distractors Analysis "
   ]
  },
  {
   "cell_type": "code",
   "execution_count": 3,
   "id": "1f54d14b-4a9d-4895-895f-b0576954ad9f",
   "metadata": {},
   "outputs": [],
   "source": [
    "model_qa = BartForConditionalGeneration.from_pretrained('tmp-QA/results_CL_large_QA/model_CL_QA_large_test').to(device)"
   ]
  },
  {
   "cell_type": "code",
   "execution_count": 4,
   "id": "50964fcd-6cf7-432a-b0b8-cc644eab2d87",
   "metadata": {},
   "outputs": [],
   "source": [
    "text = \"In the first law, an object will not change its motion unless a force acts on it. In the second law, the force on an object is equal to its mass times its acceleration. In the third law, when two objects interact, they apply forces to each other of equal magnitude and opposite direction.\""
   ]
  },
  {
   "cell_type": "code",
   "execution_count": 5,
   "id": "5f13ce18-0c4d-4f27-a674-a1e0dc7db590",
   "metadata": {},
   "outputs": [
    {
     "data": {
      "text/plain": [
       "['Question: In the first law, an object will not change its motion unless a force acts on it. in the second law, the force on an object is equal to its mass times what? Answer: its acceleration']"
      ]
     },
     "execution_count": 5,
     "metadata": {},
     "output_type": "execute_result"
    }
   ],
   "source": [
    "def qa_inference(context):\n",
    "    text = \"Support: {}\".format(context)\n",
    "    max_length = 600\n",
    "    tokenized_inputs = tokenizer.encode_plus(text, return_tensors=\"pt\", max_length=max_length, truncation=True, padding='max_length').to(device) \n",
    "\n",
    "    output = model_qa.generate(input_ids=tokenized_inputs[\"input_ids\"], max_length=1024)\n",
    "    \n",
    "    answer = tokenizer.batch_decode(output, skip_special_tokens=True, clean_up_tokenization_spaces=True)\n",
    "    return answer\n",
    "\n",
    "question_answer = qa_inference(text)\n",
    "question_answer"
   ]
  },
  {
   "cell_type": "code",
   "execution_count": 6,
   "id": "0c81b9a4-1b9b-454f-ace2-13642d28f205",
   "metadata": {},
   "outputs": [],
   "source": [
    "model_da = BartForConditionalGeneration.from_pretrained('tmp-DA/results_CL_large/model_CL_large_test').to(device)"
   ]
  },
  {
   "cell_type": "code",
   "execution_count": 7,
   "id": "feb1fbdc-2346-4af0-86c9-d5246df488e2",
   "metadata": {},
   "outputs": [
    {
     "data": {
      "text/plain": [
       "['Distractor1: its velocity Distractor2: its weight Distractor3: its density']"
      ]
     },
     "execution_count": 7,
     "metadata": {},
     "output_type": "execute_result"
    }
   ],
   "source": [
    "def da_inference(context, result):\n",
    "    text = \"Support: {} {}\".format(context, result[0])\n",
    "    max_length = 600\n",
    "    tokenized_inputs = tokenizer.encode_plus(text, return_tensors=\"pt\", max_length=max_length, truncation=True, padding='max_length').to(device) \n",
    "\n",
    "    output = model_da.generate(input_ids=tokenized_inputs[\"input_ids\"], max_length=1024)\n",
    "    \n",
    "    answer = tokenizer.batch_decode(output, skip_special_tokens=True, clean_up_tokenization_spaces=True)\n",
    "    return answer\n",
    "\n",
    "distractors = da_inference(text, question_answer)\n",
    "distractors"
   ]
  },
  {
   "cell_type": "code",
   "execution_count": 8,
   "id": "ed116d9c-74f9-4739-bc75-1a2d6ad1c6aa",
   "metadata": {},
   "outputs": [
    {
     "data": {
      "text/plain": [
       "('In the first law, an object will not change its motion unless a force acts on it. in the second law, the force on an object is equal to its mass times what?',\n",
       " 'its acceleration',\n",
       " ['its velocity', 'its weight', 'its density'])"
      ]
     },
     "execution_count": 8,
     "metadata": {},
     "output_type": "execute_result"
    }
   ],
   "source": [
    "import re\n",
    "def pipeline(context):\n",
    "    question_answer = qa_inference(context)\n",
    "    distractors = da_inference(context, question_answer)\n",
    "    \n",
    "    question_pattern = r\"Question: (.+?\\?)\"\n",
    "    answer_pattern = r\"Answer: (.+)\"\n",
    "    dis1_pattern = r\"Distractor1: (.+)\"\n",
    "    dis2_pattern = r\"Distractor2: (.+)\"\n",
    "    dis3_pattern = r\"Distractor3: (.+)\"\n",
    "\n",
    "    question = \"\"\n",
    "    answer = \"\"\n",
    "    \n",
    "    question_match = re.search(question_pattern, question_answer[0])\n",
    "    answer_match = re.search(answer_pattern, question_answer[0])\n",
    "\n",
    "    if question_match:\n",
    "        question = question_match.group(1)\n",
    "    if answer_match:\n",
    "        answer = answer_match.group(1)\n",
    "\n",
    "    distractor_pattern = r\"Distractor\\d+: (.+?)(?= Distractor|$)\"\n",
    "    distractors = re.findall(distractor_pattern, distractors[0])\n",
    "\n",
    "    return question, answer, distractors\n",
    "\n",
    "pipeline(text)"
   ]
  },
  {
   "cell_type": "code",
   "execution_count": 9,
   "id": "b1e61e08-960e-4313-a054-055906c27058",
   "metadata": {},
   "outputs": [
    {
     "data": {
      "text/plain": [
       "DatasetDict({\n",
       "    train: Dataset({\n",
       "        features: ['question', 'distractor3', 'distractor1', 'distractor2', 'correct_answer', 'support'],\n",
       "        num_rows: 10423\n",
       "    })\n",
       "    validation: Dataset({\n",
       "        features: ['question', 'distractor3', 'distractor1', 'distractor2', 'correct_answer', 'support'],\n",
       "        num_rows: 881\n",
       "    })\n",
       "    test: Dataset({\n",
       "        features: ['question', 'distractor3', 'distractor1', 'distractor2', 'correct_answer', 'support'],\n",
       "        num_rows: 880\n",
       "    })\n",
       "})"
      ]
     },
     "execution_count": 9,
     "metadata": {},
     "output_type": "execute_result"
    }
   ],
   "source": [
    "filtered_sciq = sciq_dataset.filter(lambda example: example[\"support\"] != '')\n",
    "filtered_dataset = sciq_dataset.filter(lambda example: example['support'] is not None and example['support'] != \"\")\n",
    "# And remove any datapoints which contain questions that have a 'fill-in-the-blank' type answer\n",
    "filtered_sciq = filtered_dataset.filter(lambda example: '_______' not in example['question'] and '______' not in example['question'] and '_____' not in example['question'] and '____' not in example['question'] and '___' not in example['question'])\n",
    "filtered_sciq "
   ]
  },
  {
   "cell_type": "code",
   "execution_count": 10,
   "id": "c6993958-7181-45c2-aeec-68303e1dea0d",
   "metadata": {},
   "outputs": [
    {
     "data": {
      "text/plain": [
       "Dataset({\n",
       "    features: ['question', 'distractor3', 'distractor1', 'distractor2', 'correct_answer', 'support'],\n",
       "    num_rows: 881\n",
       "})"
      ]
     },
     "execution_count": 10,
     "metadata": {},
     "output_type": "execute_result"
    }
   ],
   "source": [
    "test_data = filtered_sciq['validation']\n",
    "test_data"
   ]
  },
  {
   "cell_type": "code",
   "execution_count": 11,
   "id": "46dd3734-deb7-485b-986d-6ad17e110fd8",
   "metadata": {},
   "outputs": [],
   "source": [
    "# from huggingface_hub import notebook_login\n",
    "\n",
    "# notebook_login()"
   ]
  },
  {
   "cell_type": "code",
   "execution_count": 12,
   "id": "7cfb23c0-ee66-4e39-8d04-51ea8d470306",
   "metadata": {},
   "outputs": [],
   "source": [
    "# model_da.push_to_hub(\"final-bart-distractor-generation\")"
   ]
  },
  {
   "cell_type": "code",
   "execution_count": 13,
   "id": "f1c920bf-11ea-455b-bf8d-ae29d99451b7",
   "metadata": {},
   "outputs": [],
   "source": [
    "# model_qa.push_to_hub(\"final-bart-question-generation\")"
   ]
  },
  {
   "cell_type": "code",
   "execution_count": 14,
   "id": "39d84b4c-cdf0-483a-b661-0a1ae11dc30d",
   "metadata": {},
   "outputs": [],
   "source": [
    "from gensim.models.word2vec import Word2Vec\n",
    "import gensim.downloader as api\n",
    "\n",
    "glove_vectors = api.load(\"glove-wiki-gigaword-50\")"
   ]
  },
  {
   "cell_type": "code",
   "execution_count": 15,
   "id": "c1f94d97-605c-4981-bbba-20e4177c5142",
   "metadata": {},
   "outputs": [
    {
     "data": {
      "text/plain": [
       "[('velocities', 0.8433403372764587),\n",
       " ('angle', 0.8210359215736389),\n",
       " ('angular', 0.8034953474998474),\n",
       " ('gravity', 0.7958716154098511),\n",
       " ('amplitude', 0.7937971353530884),\n",
       " ('wavelength', 0.7915680408477783),\n",
       " ('gradient', 0.7870423793792725),\n",
       " ('probability', 0.7667955756187439),\n",
       " ('frequency', 0.7655791640281677),\n",
       " ('measurement', 0.7501229047775269)]"
      ]
     },
     "execution_count": 15,
     "metadata": {},
     "output_type": "execute_result"
    }
   ],
   "source": [
    "glove_vectors.most_similar('velocity')"
   ]
  },
  {
   "cell_type": "code",
   "execution_count": 139,
   "id": "dd208aa7-70a0-4bb8-bdef-3e7ff7ca5810",
   "metadata": {},
   "outputs": [
    {
     "data": {
      "text/plain": [
       "0.22834066"
      ]
     },
     "execution_count": 139,
     "metadata": {},
     "output_type": "execute_result"
    }
   ],
   "source": [
    "glove_vectors.similarity('angry', 'james')"
   ]
  },
  {
   "cell_type": "code",
   "execution_count": 17,
   "id": "605792c4-6e3e-414c-9a53-4f1b3af05860",
   "metadata": {},
   "outputs": [
    {
     "data": {
      "text/plain": [
       "0.67458355"
      ]
     },
     "execution_count": 17,
     "metadata": {},
     "output_type": "execute_result"
    }
   ],
   "source": [
    "glove_vectors.similarity('velocity', 'acceleration')"
   ]
  },
  {
   "cell_type": "code",
   "execution_count": 18,
   "id": "493c6a54-c6dd-4fd8-91f8-7c7c3196b94d",
   "metadata": {},
   "outputs": [
    {
     "data": {
      "text/plain": [
       "0.5167572"
      ]
     },
     "execution_count": 18,
     "metadata": {},
     "output_type": "execute_result"
    }
   ],
   "source": [
    "glove_vectors.similarity('weight', 'acceleration')"
   ]
  },
  {
   "cell_type": "code",
   "execution_count": 19,
   "id": "67f650b7-cb72-482a-86b0-9786f4b1dc21",
   "metadata": {},
   "outputs": [
    {
     "data": {
      "text/plain": [
       "0.5337082"
      ]
     },
     "execution_count": 19,
     "metadata": {},
     "output_type": "execute_result"
    }
   ],
   "source": [
    "glove_vectors.similarity('density', 'acceleration')"
   ]
  },
  {
   "cell_type": "code",
   "execution_count": 30,
   "id": "e0c629e8-ec35-4195-b5f7-44619caea9c9",
   "metadata": {},
   "outputs": [
    {
     "data": {
      "text/plain": [
       "('The smallest particle of an element that still has the properties of that element is called?',\n",
       " 'the atom',\n",
       " ['the electron', 'the neutron', 'the nucleus'])"
      ]
     },
     "execution_count": 30,
     "metadata": {},
     "output_type": "execute_result"
    }
   ],
   "source": [
    "pipeline(test_data[469]['support'])"
   ]
  },
  {
   "cell_type": "code",
   "execution_count": 21,
   "id": "b1a83f16-ecfc-4b84-88c3-ea8ce9f9472d",
   "metadata": {},
   "outputs": [
    {
     "data": {
      "application/vnd.jupyter.widget-view+json": {
       "model_id": "01286e445bac48128dc1ee010087b441",
       "version_major": 2,
       "version_minor": 0
      },
      "text/plain": [
       "Map:   0%|          | 0/881 [00:00<?, ? examples/s]"
      ]
     },
     "metadata": {},
     "output_type": "display_data"
    }
   ],
   "source": [
    "def infer_all(examples):\n",
    "    question, answer, distractors = pipeline(examples['support'])\n",
    "    \n",
    "    return {\n",
    "        \"pred_answer\": answer if answer != None else \"\",\n",
    "        \"pred_question\": question,\n",
    "        \"pred_distractors1\": distractors[0] if len(distractors) > 0 else \"\",\n",
    "        \"pred_distractors2\": distractors[1] if len(distractors) > 1 else \"\",\n",
    "        \"pred_distractors3\": distractors[2] if len(distractors) > 2 else \"\",\n",
    "    }\n",
    "\n",
    "test_data_pred = test_data.map(infer_all)"
   ]
  },
  {
   "cell_type": "code",
   "execution_count": 31,
   "id": "29b37ff3-2f9d-4881-a5dd-f74ffa171a47",
   "metadata": {},
   "outputs": [
    {
     "data": {
      "text/plain": [
       "{'question': 'The transfer of energy by electromagnetic waves is called what?',\n",
       " 'distractor3': 'magnetic radiation',\n",
       " 'distractor1': 'particulate radiation',\n",
       " 'distractor2': 'mechanical radiation',\n",
       " 'correct_answer': 'electromagnetic radiation',\n",
       " 'support': 'Electromagnetic waves are waves that consist of vibrating electric and magnetic fields. Like other waves, electromagnetic waves transfer energy from one place to another. The transfer of energy by electromagnetic waves is called electromagnetic radiation . Electromagnetic waves can transfer energy through matter or across empty space. For an excellent video introduction to electromagnetic waves, go to this URL: http://www. youtube. com/watch?v=cfXzwh3KadE.',\n",
       " 'pred_answer': 'magnetic fields',\n",
       " 'pred_question': 'Electromagnetic waves are waves that consist of vibrating electric and what else?',\n",
       " 'pred_distractors1': 'gravitational fields',\n",
       " 'pred_distractors2': 'electromagnetic currents',\n",
       " 'pred_distractors3': 'magnetic currents'}"
      ]
     },
     "execution_count": 31,
     "metadata": {},
     "output_type": "execute_result"
    }
   ],
   "source": [
    "test_data_pred[170]"
   ]
  },
  {
   "cell_type": "code",
   "execution_count": 115,
   "id": "26bdf35b-ec73-44e6-8106-c0a5b22d226e",
   "metadata": {},
   "outputs": [
    {
     "data": {
      "text/plain": [
       "array([0., 0., 0., 0., 0., 0., 0., 0., 0., 0., 0., 0., 0., 0., 0., 0., 0.,\n",
       "       0., 0., 0., 0., 0., 0., 0., 0., 0., 0., 0., 0., 0., 0., 0., 0., 0.,\n",
       "       0., 0., 0., 0., 0., 0., 0., 0., 0., 0., 0., 0., 0., 0., 0., 0.])"
      ]
     },
     "execution_count": 115,
     "metadata": {},
     "output_type": "execute_result"
    }
   ],
   "source": [
    "import numpy as np\n",
    "def phrase_vector(phrase):\n",
    "    ## empty assume zero\n",
    "    if phrase == \"\":\n",
    "        wv = np.zeros(glove_vectors.vector_size)\n",
    "    else:\n",
    "        words = phrase.split()\n",
    "        word_vectors = [glove_vectors[word] for word in words if word in glove_vectors]\n",
    "        if len(word_vectors) == 0:\n",
    "            wv = np.zeros(glove_vectors.vector_size)\n",
    "        else:\n",
    "            wv = np.mean(word_vectors, axis=0)\n",
    "    return wv \n",
    "vec = phrase_vector(\"iron-def\")\n",
    "vec"
   ]
  },
  {
   "cell_type": "code",
   "execution_count": 116,
   "id": "dc0f7407-92ce-46ba-ac7d-7fa4524549fb",
   "metadata": {},
   "outputs": [
    {
     "data": {
      "text/plain": [
       "0.68906325"
      ]
     },
     "execution_count": 116,
     "metadata": {},
     "output_type": "execute_result"
    }
   ],
   "source": [
    "from sklearn.metrics.pairwise import cosine_similarity\n",
    "\n",
    "cosine_similarity([phrase_vector(\"happy\")], [phrase_vector(\"sad\")])[0][0]"
   ]
  },
  {
   "cell_type": "code",
   "execution_count": 132,
   "id": "5a1ad94f-5fd4-4fce-bf7c-ab8c9bb7d85e",
   "metadata": {},
   "outputs": [],
   "source": [
    "def calc_vector_answer_dis(examples):\n",
    "    answer_vec = phrase_vector(examples['correct_answer'])\n",
    "    dis1_vec = phrase_vector(examples['distractor1'])\n",
    "    dis2_vec = phrase_vector(examples['distractor2'])\n",
    "    dis3_vec = phrase_vector(examples['distractor3'])\n",
    "\n",
    "    #distance between answers and distractors\n",
    "    sim_answer_dis1 = cosine_similarity([answer_vec], [dis1_vec])\n",
    "    sim_answer_dis2 = cosine_similarity([answer_vec], [dis2_vec])\n",
    "    sim_answer_dis3 = cosine_similarity([answer_vec], [dis3_vec])\n",
    "\n",
    "    sim_answer_dis = np.average([sim_answer_dis1, sim_answer_dis2, sim_answer_dis3])\n",
    "    return sim_answer_dis\n",
    "\n",
    "def calc_vector_inter_dis(examples):\n",
    "    dis1_vec = phrase_vector(examples['distractor1'])\n",
    "    dis2_vec = phrase_vector(examples['distractor2'])\n",
    "    dis3_vec = phrase_vector(examples['distractor3'])\n",
    "\n",
    "    #distance between each distractors\n",
    "    sim_dis1_dis2 = cosine_similarity([dis1_vec], [dis2_vec])\n",
    "    sim_dis2_dis3 = cosine_similarity([dis2_vec], [dis3_vec])\n",
    "    sim_dis3_dis1 = cosine_similarity([dis3_vec], [dis1_vec])\n",
    "\n",
    "    sim_dis = np.average([sim_dis1_dis2, sim_dis2_dis3, sim_dis3_dis1])\n",
    "    return sim_dis\n",
    "\n",
    "def calc_vector_answer_dis_pred(examples):\n",
    "    answer_vec = phrase_vector(examples['pred_answer'])\n",
    "    dis1_vec = phrase_vector(examples['pred_distractors1'])\n",
    "    dis2_vec = phrase_vector(examples['pred_distractors2'])\n",
    "    dis3_vec = phrase_vector(examples['pred_distractors3'])\n",
    "\n",
    "     #distance between answers and distractors\n",
    "    sim_answer_dis1 = cosine_similarity([answer_vec], [dis1_vec])\n",
    "    sim_answer_dis2 = cosine_similarity([answer_vec], [dis2_vec])\n",
    "    sim_answer_dis3 = cosine_similarity([answer_vec], [dis3_vec])\n",
    "\n",
    "    sim_answer_dis = np.average([sim_answer_dis1, sim_answer_dis2, sim_answer_dis3])\n",
    "\n",
    "    return sim_answer_dis\n",
    "\n",
    "def calc_vector_inter_dis_pred(examples):\n",
    "    dis1_vec = phrase_vector(examples['pred_distractors1'])\n",
    "    dis2_vec = phrase_vector(examples['pred_distractors2'])\n",
    "    dis3_vec = phrase_vector(examples['pred_distractors3'])\n",
    "\n",
    "    #distance between each distractors\n",
    "    sim_dis1_dis2 = cosine_similarity([dis1_vec], [dis2_vec])\n",
    "    sim_dis2_dis3 = cosine_similarity([dis2_vec], [dis3_vec])\n",
    "    sim_dis3_dis1 = cosine_similarity([dis3_vec], [dis1_vec])\n",
    "\n",
    "    sim_dis = np.average([sim_dis1_dis2, sim_dis2_dis3, sim_dis3_dis1])\n",
    "\n",
    "    return sim_dis"
   ]
  },
  {
   "cell_type": "code",
   "execution_count": 133,
   "id": "2de70b55-95ec-43f7-b2b5-e139b7a3b7ed",
   "metadata": {},
   "outputs": [],
   "source": [
    "answer_dis = []\n",
    "inter_dis = []\n",
    "answer_pred_dis = []\n",
    "inter_pred_dis = []\n",
    "for data in test_data_pred:\n",
    "    answer_dis.append(calc_vector_answer_dis(data))\n",
    "    inter_dis.append(calc_vector_inter_dis(data))\n",
    "    answer_pred_dis.append(calc_vector_answer_dis_pred(data))\n",
    "    inter_pred_dis.append(calc_vector_inter_dis_pred(data))"
   ]
  },
  {
   "cell_type": "markdown",
   "id": "1a42772d-f3ac-4b2e-a957-76b0a4fe94d5",
   "metadata": {},
   "source": [
    "Ground Truth Answer and Distractors Similarity"
   ]
  },
  {
   "cell_type": "code",
   "execution_count": 134,
   "id": "ba16edd5-c617-4035-8593-5a8c277a93e1",
   "metadata": {},
   "outputs": [
    {
     "data": {
      "text/plain": [
       "0.5800197711281374"
      ]
     },
     "execution_count": 134,
     "metadata": {},
     "output_type": "execute_result"
    }
   ],
   "source": [
    "np.average(answer_dis)"
   ]
  },
  {
   "cell_type": "markdown",
   "id": "e54f550d-4133-40be-9eaf-0ec375bada6e",
   "metadata": {},
   "source": [
    "Ground Truth Inter Distractors Similarity"
   ]
  },
  {
   "cell_type": "code",
   "execution_count": 135,
   "id": "e180970c-d5db-41c1-8b9e-b12bfdf3775d",
   "metadata": {},
   "outputs": [
    {
     "data": {
      "text/plain": [
       "0.5230395514299552"
      ]
     },
     "execution_count": 135,
     "metadata": {},
     "output_type": "execute_result"
    }
   ],
   "source": [
    "np.average(inter_dis)"
   ]
  },
  {
   "cell_type": "markdown",
   "id": "c67f5e14-cae1-43d4-9596-3004e88e2fa2",
   "metadata": {},
   "source": [
    "Predicted Answer and Distractors Similarity"
   ]
  },
  {
   "cell_type": "code",
   "execution_count": 136,
   "id": "83d0259b-36a9-401d-842d-90e973561e04",
   "metadata": {},
   "outputs": [
    {
     "data": {
      "text/plain": [
       "0.6643107100007571"
      ]
     },
     "execution_count": 136,
     "metadata": {},
     "output_type": "execute_result"
    }
   ],
   "source": [
    "np.average(answer_pred_dis)"
   ]
  },
  {
   "cell_type": "markdown",
   "id": "abffe7cf-0121-4c08-b0ec-84543cd23e45",
   "metadata": {},
   "source": [
    "Predicted Inter Distractors Similarity"
   ]
  },
  {
   "cell_type": "code",
   "execution_count": 137,
   "id": "edff2bda-20e1-480d-bd3f-32010ff39832",
   "metadata": {},
   "outputs": [
    {
     "data": {
      "text/plain": [
       "0.6502474400676812"
      ]
     },
     "execution_count": 137,
     "metadata": {},
     "output_type": "execute_result"
    }
   ],
   "source": [
    "np.average(inter_pred_dis)"
   ]
  },
  {
   "cell_type": "markdown",
   "id": "d2c50446-d358-4945-ac8c-d7f7ea3eafb1",
   "metadata": {},
   "source": [
    "### Single Fine Tuned Model Distractors Analysis "
   ]
  },
  {
   "cell_type": "code",
   "execution_count": 141,
   "id": "81394f08-2624-42cd-b929-fb37fad6fe01",
   "metadata": {},
   "outputs": [
    {
     "data": {
      "application/vnd.jupyter.widget-view+json": {
       "model_id": "dec81702f7dd4cf699116673e23185f7",
       "version_major": 2,
       "version_minor": 0
      },
      "text/plain": [
       "config.json:   0%|          | 0.00/1.74k [00:00<?, ?B/s]"
      ]
     },
     "metadata": {},
     "output_type": "display_data"
    },
    {
     "data": {
      "application/vnd.jupyter.widget-view+json": {
       "model_id": "30c8260d8e1945828a46b6b1111bfc29",
       "version_major": 2,
       "version_minor": 0
      },
      "text/plain": [
       "model.safetensors:   0%|          | 0.00/558M [00:00<?, ?B/s]"
      ]
     },
     "metadata": {},
     "output_type": "display_data"
    },
    {
     "data": {
      "application/vnd.jupyter.widget-view+json": {
       "model_id": "3d8e4b1ff4f3411dad8ed45e1729b8fc",
       "version_major": 2,
       "version_minor": 0
      },
      "text/plain": [
       "generation_config.json:   0%|          | 0.00/292 [00:00<?, ?B/s]"
      ]
     },
     "metadata": {},
     "output_type": "display_data"
    }
   ],
   "source": [
    "model_all = BartForConditionalGeneration.from_pretrained(\"b-b-brouwer/CL_base\").to(device)"
   ]
  },
  {
   "cell_type": "code",
   "execution_count": 146,
   "id": "92f025e8-32f6-4fda-9976-b9ce38d6b60e",
   "metadata": {},
   "outputs": [
    {
     "data": {
      "text/plain": [
       "['Question:Question: Which law states that an object will not change its motion unless a force acts on it? Answer: first law Distractor1:  third law and second law of inertia Distractor2: fourth law and third law of relativity Distractor3: law and law']"
      ]
     },
     "execution_count": 146,
     "metadata": {},
     "output_type": "execute_result"
    }
   ],
   "source": [
    "def inference_sft(context):\n",
    "    text = \"Support: {}\".format(context)\n",
    "    max_length = 600\n",
    "    tokenized_inputs = tokenizer.encode_plus(text, return_tensors=\"pt\", max_length=max_length, truncation=True, padding='max_length').to(device) \n",
    "\n",
    "    output = model_all.generate(input_ids=tokenized_inputs[\"input_ids\"], max_length=1024)\n",
    "    \n",
    "    res = tokenizer.batch_decode(output, skip_special_tokens=True, clean_up_tokenization_spaces=True)\n",
    "    return res\n",
    "    \n",
    "inference_sft(text)"
   ]
  },
  {
   "cell_type": "code",
   "execution_count": 152,
   "id": "cae2c8de-5c89-467a-870a-a8184d4f9bf0",
   "metadata": {},
   "outputs": [
    {
     "data": {
      "application/vnd.jupyter.widget-view+json": {
       "model_id": "ada68bfec6ac468f83541736d39322dd",
       "version_major": 2,
       "version_minor": 0
      },
      "text/plain": [
       "Map:   0%|          | 0/881 [00:00<?, ? examples/s]"
      ]
     },
     "metadata": {},
     "output_type": "display_data"
    }
   ],
   "source": [
    "def infer_all_sft(examples):\n",
    "    result = inference_sft(examples['support'])\n",
    "\n",
    "    question_pattern = r\"Question: (.+?\\?)\"\n",
    "    answer_pattern = r\"Answer: (.+?)(?= Distractor\\d+: |$)\"\n",
    "    dis1_pattern = r\"Distractor1: (.+)\"\n",
    "    dis2_pattern = r\"Distractor2: (.+)\"\n",
    "    dis3_pattern = r\"Distractor3: (.+)\"\n",
    "\n",
    "    question = \"\"\n",
    "    answer = \"\"\n",
    "    \n",
    "    question_match = re.search(question_pattern, result[0])\n",
    "    answer_match = re.search(answer_pattern, result[0])\n",
    "\n",
    "    if question_match:\n",
    "        question = question_match.group(1)\n",
    "    if answer_match:\n",
    "        answer = answer_match.group(1)\n",
    "\n",
    "    distractor_pattern = r\"Distractor\\d+: (.+?)(?= Distractor|$)\"\n",
    "    distractors = re.findall(distractor_pattern, result[0])\n",
    "    \n",
    "    return {\n",
    "        \"pred_answer\": answer if answer != None else \"\",\n",
    "        \"pred_question\": question,\n",
    "        \"pred_distractors1\": distractors[0] if len(distractors) > 0 else \"\",\n",
    "        \"pred_distractors2\": distractors[1] if len(distractors) > 1 else \"\",\n",
    "        \"pred_distractors3\": distractors[2] if len(distractors) > 2 else \"\",\n",
    "    }\n",
    "\n",
    "test_data_pred = test_data.map(infer_all_sft)"
   ]
  },
  {
   "cell_type": "code",
   "execution_count": 153,
   "id": "eac2b142-8171-4d1c-9c48-60d3f4db8de6",
   "metadata": {},
   "outputs": [],
   "source": [
    "answer_dis = []\n",
    "inter_dis = []\n",
    "answer_pred_dis = []\n",
    "inter_pred_dis = []\n",
    "for data in test_data_pred:\n",
    "    answer_dis.append(calc_vector_answer_dis(data))\n",
    "    inter_dis.append(calc_vector_inter_dis(data))\n",
    "    answer_pred_dis.append(calc_vector_answer_dis_pred(data))\n",
    "    inter_pred_dis.append(calc_vector_inter_dis_pred(data))"
   ]
  },
  {
   "cell_type": "code",
   "execution_count": 154,
   "id": "84a71b23-9749-4dc5-87ec-8f6273393ac8",
   "metadata": {},
   "outputs": [
    {
     "data": {
      "text/plain": [
       "0.5800197711281374"
      ]
     },
     "execution_count": 154,
     "metadata": {},
     "output_type": "execute_result"
    }
   ],
   "source": [
    "np.average(answer_dis)"
   ]
  },
  {
   "cell_type": "code",
   "execution_count": 155,
   "id": "ef8f5b14-6d18-4fa7-81c9-ea1a9b0b47a7",
   "metadata": {},
   "outputs": [
    {
     "data": {
      "text/plain": [
       "0.5230395514299552"
      ]
     },
     "execution_count": 155,
     "metadata": {},
     "output_type": "execute_result"
    }
   ],
   "source": [
    "np.average(inter_dis)"
   ]
  },
  {
   "cell_type": "code",
   "execution_count": 156,
   "id": "aba40765-a769-40cf-9b20-92165576ec94",
   "metadata": {},
   "outputs": [
    {
     "data": {
      "text/plain": [
       "0.5562485193243836"
      ]
     },
     "execution_count": 156,
     "metadata": {},
     "output_type": "execute_result"
    }
   ],
   "source": [
    "np.average(answer_pred_dis)"
   ]
  },
  {
   "cell_type": "code",
   "execution_count": 157,
   "id": "6ded280e-83f0-45fe-9b3c-bcd7009e91b4",
   "metadata": {},
   "outputs": [
    {
     "data": {
      "text/plain": [
       "0.5263792485850741"
      ]
     },
     "execution_count": 157,
     "metadata": {},
     "output_type": "execute_result"
    }
   ],
   "source": [
    "np.average(inter_pred_dis)"
   ]
  }
 ],
 "metadata": {
  "kernelspec": {
   "display_name": "Python 3 (ipykernel)",
   "language": "python",
   "name": "python3"
  },
  "language_info": {
   "codemirror_mode": {
    "name": "ipython",
    "version": 3
   },
   "file_extension": ".py",
   "mimetype": "text/x-python",
   "name": "python",
   "nbconvert_exporter": "python",
   "pygments_lexer": "ipython3",
   "version": "3.11.5"
  }
 },
 "nbformat": 4,
 "nbformat_minor": 5
}
